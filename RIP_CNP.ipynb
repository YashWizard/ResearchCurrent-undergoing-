{
 "cells": [
  {
   "cell_type": "code",
   "execution_count": 1,
   "id": "3621e94c-7cfd-47a3-af49-067508a6bd59",
   "metadata": {},
   "outputs": [
    {
     "name": "stdout",
     "output_type": "stream",
     "text": [
      "Source   Index  Name                                  MAC                    IPv4             IPv6                     \n",
      "libpcap  1      Software Loopback Interface 1         00:00:00:00:00:00      127.0.0.1        ::1                      \n",
      "libpcap  11     Microsoft Wi-Fi Direct Virtual Adap_  4e:d5:77:eb:36:d7      169.254.194.45   fe80::bc07:3ec0:773f:21b9\n",
      "libpcap  14     MediaTek Wi-Fi 6E MT7922 (RZ616) 16_  ChongqingFug:eb:16:f7  10.86.3.249      fe80::d09a:48e0:572f:e406\n",
      "libpcap  16     WAN Miniport (IP)                                                                                      \n",
      "libpcap  17     WAN Miniport (Network Monitor)                                                                         \n",
      "libpcap  18     WAN Miniport (IPv6)                                                                                    \n",
      "libpcap  19     Realtek Gaming 2.5GbE Family Contro_  ASUSTekCOMPU:d3:ca:be  169.254.197.99   fe80::6bd0:2556:30d9:1873\n",
      "libpcap  21     Microsoft Wi-Fi Direct Virtual Adap_  4e:d5:77:eb:26:c7      169.254.33.170   fe80::aa61:1e07:2306:4409\n",
      "libpcap  23     TAP-Windows Adapter V9                00:ff:fb:14:2b:d2      169.254.29.254   fe80::9010:8fff:d1bd:67  \n",
      "libpcap  57     Microsoft KM-TEST Loopback Adapter    02:00:4c:4f:4f:50      169.254.170.190  fe80::6b5a:be72:1d05:b7f1\n"
     ]
    }
   ],
   "source": [
    "from scapy.all import conf\n",
    "print(conf.ifaces)\n"
   ]
  },
  {
   "cell_type": "code",
   "execution_count": 2,
   "id": "a3d3be16-3b1d-4634-8318-a5a3daf10504",
   "metadata": {},
   "outputs": [
    {
     "name": "stdout",
     "output_type": "stream",
     "text": [
      "Source   Index  Name                                  MAC                    IPv4             IPv6                     \n",
      "libpcap  1      Software Loopback Interface 1         00:00:00:00:00:00      127.0.0.1        ::1                      \n",
      "libpcap  11     Microsoft Wi-Fi Direct Virtual Adap_  4e:d5:77:eb:36:d7      169.254.194.45   fe80::bc07:3ec0:773f:21b9\n",
      "libpcap  14     MediaTek Wi-Fi 6E MT7922 (RZ616) 16_  ChongqingFug:eb:16:f7  10.86.3.249      fe80::d09a:48e0:572f:e406\n",
      "libpcap  16     WAN Miniport (IP)                                                                                      \n",
      "libpcap  17     WAN Miniport (Network Monitor)                                                                         \n",
      "libpcap  18     WAN Miniport (IPv6)                                                                                    \n",
      "libpcap  19     Realtek Gaming 2.5GbE Family Contro_  ASUSTekCOMPU:d3:ca:be  169.254.197.99   fe80::6bd0:2556:30d9:1873\n",
      "libpcap  21     Microsoft Wi-Fi Direct Virtual Adap_  4e:d5:77:eb:26:c7      169.254.33.170   fe80::aa61:1e07:2306:4409\n",
      "libpcap  23     TAP-Windows Adapter V9                00:ff:fb:14:2b:d2      169.254.29.254   fe80::9010:8fff:d1bd:67  \n",
      "libpcap  57     Microsoft KM-TEST Loopback Adapter    02:00:4c:4f:4f:50      169.254.170.190  fe80::6b5a:be72:1d05:b7f1\n"
     ]
    }
   ],
   "source": [
    "from scapy.all import conf\n",
    "print(conf.ifaces)\n"
   ]
  },
  {
   "cell_type": "code",
   "execution_count": 1,
   "id": "de53e04b-0f13-43d1-b178-fa4decba6031",
   "metadata": {},
   "outputs": [
    {
     "name": "stdout",
     "output_type": "stream",
     "text": [
      "Source   Index  Name                                  MAC                    IPv4             IPv6                     \n",
      "libpcap  1      Software Loopback Interface 1         00:00:00:00:00:00      127.0.0.1        ::1                      \n",
      "libpcap  12     Microsoft Wi-Fi Direct Virtual Adap_  4e:d5:77:eb:36:d7      169.254.194.45   fe80::bc07:3ec0:773f:21b9\n",
      "libpcap  15     MediaTek Wi-Fi 6E MT7922 (RZ616) 16_  ChongqingFug:eb:16:f7  10.86.3.249      fe80::d09a:48e0:572f:e406\n",
      "libpcap  20     Realtek Gaming 2.5GbE Family Contro_  ASUSTekCOMPU:d3:ca:be  169.254.197.99   fe80::6bd0:2556:30d9:1873\n",
      "libpcap  24     TAP-Windows Adapter V9                00:ff:fb:14:2b:d2      169.254.29.254   fe80::9010:8fff:d1bd:67  \n",
      "libpcap  9      Microsoft KM-TEST Loopback Adapter    02:00:4c:4f:4f:50      169.254.170.190  fe80::6b5a:be72:1d05:b7f1\n"
     ]
    }
   ],
   "source": [
    "from scapy.all import conf\n",
    "print(conf.ifaces)\n"
   ]
  },
  {
   "cell_type": "code",
   "execution_count": 2,
   "id": "9a6ae54d-3ec5-434c-831f-a97c4e0a158f",
   "metadata": {},
   "outputs": [
    {
     "name": "stdout",
     "output_type": "stream",
     "text": [
      "Source   Index  Name                                  MAC                    IPv4             IPv6                     \n",
      "libpcap  1      Software Loopback Interface 1         00:00:00:00:00:00      127.0.0.1        ::1                      \n",
      "libpcap  12     Microsoft Wi-Fi Direct Virtual Adap_  4e:d5:77:eb:36:d7      169.254.194.45   fe80::bc07:3ec0:773f:21b9\n",
      "libpcap  15     MediaTek Wi-Fi 6E MT7922 (RZ616) 16_  ChongqingFug:eb:16:f7  10.86.3.249      fe80::d09a:48e0:572f:e406\n",
      "libpcap  20     Realtek Gaming 2.5GbE Family Contro_  ASUSTekCOMPU:d3:ca:be  169.254.197.99   fe80::6bd0:2556:30d9:1873\n",
      "libpcap  24     TAP-Windows Adapter V9                00:ff:fb:14:2b:d2      169.254.29.254   fe80::9010:8fff:d1bd:67  \n",
      "libpcap  9      Microsoft KM-TEST Loopback Adapter    02:00:4c:4f:4f:50      169.254.170.190  fe80::6b5a:be72:1d05:b7f1\n"
     ]
    }
   ],
   "source": [
    "\n",
    "from scapy.all import conf\n",
    "print(conf.ifaces)\n",
    "\n"
   ]
  },
  {
   "cell_type": "code",
   "execution_count": 3,
   "id": "a554cb09-212c-4c3c-a425-9e380d85f01c",
   "metadata": {},
   "outputs": [],
   "source": [
    "conf.use_pcap = True\n"
   ]
  },
  {
   "cell_type": "code",
   "execution_count": 4,
   "id": "0014be21-0030-4784-9c4b-3cc1a362db25",
   "metadata": {},
   "outputs": [
    {
     "name": "stdout",
     "output_type": "stream",
     "text": [
      "Source   Index  Name                                  MAC                    IPv4             IPv6                     \n",
      "libpcap  1      Software Loopback Interface 1         00:00:00:00:00:00      127.0.0.1        ::1                      \n",
      "libpcap  12     Microsoft Wi-Fi Direct Virtual Adap_  4e:d5:77:eb:36:d7      169.254.194.45   fe80::bc07:3ec0:773f:21b9\n",
      "libpcap  15     MediaTek Wi-Fi 6E MT7922 (RZ616) 16_  ChongqingFug:eb:16:f7  10.86.3.249      fe80::d09a:48e0:572f:e406\n",
      "libpcap  17     WAN Miniport (IP)                                                                                      \n",
      "libpcap  18     WAN Miniport (Network Monitor)                                                                         \n",
      "libpcap  19     WAN Miniport (IPv6)                                                                                    \n",
      "libpcap  20     Realtek Gaming 2.5GbE Family Contro_  ASUSTekCOMPU:d3:ca:be  169.254.197.99   fe80::6bd0:2556:30d9:1873\n",
      "libpcap  22     Microsoft Wi-Fi Direct Virtual Adap_  4e:d5:77:eb:26:c7      169.254.33.170   fe80::aa61:1e07:2306:4409\n",
      "libpcap  24     TAP-Windows Adapter V9                00:ff:fb:14:2b:d2      169.254.29.254   fe80::9010:8fff:d1bd:67  \n",
      "libpcap  9      Microsoft KM-TEST Loopback Adapter    02:00:4c:4f:4f:50      169.254.170.190  fe80::6b5a:be72:1d05:b7f1\n"
     ]
    }
   ],
   "source": [
    "print(conf.ifaces)\n"
   ]
  },
  {
   "cell_type": "code",
   "execution_count": null,
   "id": "eb1f3c97-7101-426f-a9bd-7dbc30b6cf6f",
   "metadata": {},
   "outputs": [],
   "source": []
  }
 ],
 "metadata": {
  "kernelspec": {
   "display_name": "Python 3 (ipykernel)",
   "language": "python",
   "name": "python3"
  },
  "language_info": {
   "codemirror_mode": {
    "name": "ipython",
    "version": 3
   },
   "file_extension": ".py",
   "mimetype": "text/x-python",
   "name": "python",
   "nbconvert_exporter": "python",
   "pygments_lexer": "ipython3",
   "version": "3.11.8"
  }
 },
 "nbformat": 4,
 "nbformat_minor": 5
}
